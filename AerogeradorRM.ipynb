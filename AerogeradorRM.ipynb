{
 "cells": [
  {
   "cell_type": "code",
   "execution_count": null,
   "metadata": {},
   "outputs": [],
   "source": [
    "import numpy as np\n",
    "import pandas as pd\n",
    "import matplotlib.pyplot as plt\n",
    "\n",
    "# Carrega os dados do arquivo \"aerogerador.dat\"\n",
    "database = pd.read_csv(\"aerogerador.dat\", sep=\"\\t\")\n",
    "\n",
    "# Separa os dados em X e Y\n",
    "X = database.iloc[:, 0].values\n",
    "Y = database.iloc[:, 1].values\n",
    "\n",
    "# Cria uma matriz com uma coluna de 1's e outras colunas com os valores de X elevados a potências crescentes de 2 a 10\n",
    "x_poly = np.ones((X.shape[0], 1))\n",
    "for i in range(2, 11):\n",
    "    x_poly = np.hstack((x_poly, np.power(X, i).reshape(-1, 1)))\n",
    "\n",
    "# Calcula a matriz transposta de x_poly\n",
    "x_poly_trans = x_poly.T\n",
    "\n",
    "# Calcula a matriz de chapéu B_chap\n",
    "B_chap = np.linalg.inv(x_poly_trans @ x_poly) @ x_poly_trans @ Y\n",
    "\n",
    "# Calcula a série prevista Y_chap\n",
    "Y_chap = x_poly @ B_chap\n",
    "\n",
    "# Plota os dados reais e previstos\n",
    "plt.scatter(X, Y, color='black', marker='*')\n",
    "plt.plot(X, Y_chap, color='red', linestyle='-')\n",
    "plt.show()\n",
    "\n",
    "# Calcula o erro quadrático médio (SQE) e o erro quadrático total (SYY)\n",
    "SQE = np.sum(np.power(Y - Y_chap, 2))\n",
    "SYY = np.sum(np.power(Y - np.mean(Y), 2))\n",
    "\n",
    "# Calcula o coeficiente de determinação R² e o coeficiente de determinação ajustado R²aj\n",
    "R2 = 1 - (SQE / SYY)\n",
    "n = X.shape[0]\n",
    "p = B_chap.shape[0]\n",
    "R2aj = 1 - ((SQE / (n - p)) / (SYY / (n - 1)))\n",
    "print(\" \\n R2aj = {} \\n R2 = {}\".format(R2aj, R2))\n"
   ]
  }
 ],
 "metadata": {
  "language_info": {
   "name": "python"
  },
  "orig_nbformat": 4
 },
 "nbformat": 4,
 "nbformat_minor": 2
}
